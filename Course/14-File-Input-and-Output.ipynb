{
 "cells": [
  {
   "cell_type": "markdown",
   "metadata": {},
   "source": [
    "<!--BOOK_INFORMATION-->\n",
    "<img align=\"left\" style=\"padding-right:10px;\" src=\"fig/cover-small.jpg\">\n",
    "\n",
    "*This notebook contains an excerpt from the [Whirlwind Tour of Python](http://www.oreilly.com/programming/free/a-whirlwind-tour-of-python.csp) by Jake VanderPlas; the content is available [on GitHub](https://github.com/jakevdp/WhirlwindTourOfPython).*\n",
    "\n",
    "*The text and code are released under the [CC0](https://github.com/jakevdp/WhirlwindTourOfPython/blob/master/LICENSE) license; see also the companion project, the [Python Data Science Handbook](https://github.com/jakevdp/PythonDataScienceHandbook).*\n"
   ]
  },
  {
   "cell_type": "markdown",
   "metadata": {},
   "source": [
    "<!--NAVIGATION-->\n",
    "< [Strings and Regular Expressions](13-Strings-and-Regular-Expressions.ipynb) | [Contents](Index.ipynb) | [Modules and Packages](15-Modules-and-Packages.ipynb) >"
   ]
  },
  {
   "cell_type": "markdown",
   "metadata": {
    "slideshow": {
     "slide_type": "fragment"
    }
   },
   "source": [
    "# File Input and Output\n",
    "\n",
    "## Filesystem operations"
   ]
  },
  {
   "cell_type": "markdown",
   "metadata": {},
   "source": [
    "Filesystem operations can be carried out by executing a normal shell command preceded by exclamation mark:"
   ]
  },
  {
   "cell_type": "code",
   "execution_count": 20,
   "metadata": {},
   "outputs": [
    {
     "name": "stdout",
     "output_type": "stream",
     "text": [
      "\u001b[31m00-Introduction.ipynb\u001b[m\u001b[m\r\n",
      "\u001b[31m01-How-to-Run-Python-Code.ipynb\u001b[m\u001b[m\r\n",
      "\u001b[31m02-Basic-Python-Syntax.ipynb\u001b[m\u001b[m\r\n",
      "\u001b[31m03-Semantics-Variables.ipynb\u001b[m\u001b[m\r\n",
      "\u001b[31m04-Semantics-Operators.ipynb\u001b[m\u001b[m\r\n",
      "\u001b[31m05-Built-in-Scalar-Types.ipynb\u001b[m\u001b[m\r\n",
      "\u001b[31m06-Built-in-Data-Structures.ipynb\u001b[m\u001b[m\r\n",
      "\u001b[31m07-Control-Flow-Statements.ipynb\u001b[m\u001b[m\r\n",
      "\u001b[31m08-Defining-Functions.ipynb\u001b[m\u001b[m\r\n",
      "\u001b[31m09-Errors-and-Exceptions.ipynb\u001b[m\u001b[m\r\n",
      "\u001b[31m10-Iterators.ipynb\u001b[m\u001b[m\r\n",
      "\u001b[31m11-List-Comprehensions.ipynb\u001b[m\u001b[m\r\n",
      "\u001b[31m12-Generators.ipynb\u001b[m\u001b[m\r\n",
      "\u001b[31m13-Strings-and-Regular-Expressions.ipynb\u001b[m\u001b[m\r\n",
      "14-File-Input-and-Output.ipynb\r\n",
      "\u001b[31m15-Modules-and-Packages.ipynb\u001b[m\u001b[m\r\n",
      "\u001b[31m16-Preview-of-Data-Science-Tools.ipynb\u001b[m\u001b[m\r\n",
      "\u001b[31m17-Further-Resources.ipynb\u001b[m\u001b[m\r\n",
      "18-Plotting.ipynb\r\n",
      "\u001b[31m19-Figures.ipynb\u001b[m\u001b[m\r\n",
      "20-Solutions.ipynb\r\n",
      "Haikus.txt\r\n",
      "\u001b[31mIndex-of-Chapters.ipynb\u001b[m\u001b[m\r\n",
      "\u001b[31mLICENSE\u001b[m\u001b[m\r\n",
      "\u001b[31mREADME.md\u001b[m\u001b[m\r\n",
      "\u001b[34mfig\u001b[m\u001b[m\r\n",
      "\u001b[34mtools\u001b[m\u001b[m\r\n",
      "\u001b[34mwebsite\u001b[m\u001b[m\r\n"
     ]
    }
   ],
   "source": [
    "!ls"
   ]
  },
  {
   "cell_type": "markdown",
   "metadata": {},
   "source": [
    "Another alternative to operate files is to use the ``os`` module:\n",
    "\n",
    "* ``os.getcwd()``- Returns the path to the current working directory.\n",
    "* ``os.chdir(path)`` - Changes the current working directory to path.\n",
    "* ``os.listdir(dir)`` - Returns the list of entries in directory dir (omitting ‘.’ and ‘..’)\n",
    "* ``os.makedirs(path)`` - Creates a directory; nothing happens if the directory already exists. Creates all the intermediate-level directories needed to contain the leaf.\n",
    "* ``os.rename(old,new)`` - Renames a file or directory from old to new."
   ]
  },
  {
   "cell_type": "markdown",
   "metadata": {},
   "source": [
    "Specific path related functions are methods of ``os.path``:\n",
    "\n",
    "* ``os.path.exists(path)`` - Returns True if path exists.\n",
    "* ``os.path.isdir(path)`` - Returns True if path is a directory. \n",
    "* ``os.path.isfile(path)`` - Returns True if path is a regular file.\n",
    "* ``os.path.basename(path)`` - Returns the base name (the part after the last ‘/’ character)\n",
    "* ``os.path.dirname(path)`` - Returns the directory name (the part before the last / character).\n",
    "* ``os.path.abspath(path)`` - Make path absolute (i.e., start with a /)."
   ]
  },
  {
   "cell_type": "markdown",
   "metadata": {
    "slideshow": {
     "slide_type": "fragment"
    }
   },
   "source": [
    "## Read from a file and write to a file\n",
    "\n",
    "1. The **first line** of code for processing a text file usually looks like this:\n",
    "\n",
    "`with open(filename, mode) as stream:` - which prepares the file for processing."
   ]
  },
  {
   "cell_type": "markdown",
   "metadata": {},
   "source": [
    "Mode is one of ``'r'``, ``'w'`` or ``'a'`` for reading, writing, appending. You can add a ‘+’ character to enable read+write (other effects being the same).\n",
    "\n",
    "`stream = open(filename, mode)` is equivalent to the first line of the previous code, the difference is that `with` ensures that the file is closed after the desired operation is carried out, otherwise one should close the file explicitely by the `stream.close()` command."
   ]
  },
  {
   "cell_type": "markdown",
   "metadata": {},
   "source": [
    "2. a) If the chosen processing mode is read, the **second line** can be something like\n",
    "\n",
    "`content = stream.read()` - which returns the whole content of a file as a multiline string\n",
    "\n",
    "or\n",
    "\n",
    "`content = stream.readlines()` - which returns the content of the file as a list of one line strings\n",
    "    \n",
    "or \n",
    "\n",
    "`for line in stream:` - which reads the lines of file line by line."
   ]
  },
  {
   "cell_type": "markdown",
   "metadata": {
    "slideshow": {
     "slide_type": "slide"
    }
   },
   "source": [
    "2. b) If the chosen processing is write, the **second line** can be \n",
    "\n",
    "`stream.write(text)`"
   ]
  },
  {
   "cell_type": "markdown",
   "metadata": {},
   "source": [
    "### Exercise\n",
    "\n",
    "As an exercise we will create a file with the haikus from the previous chapter."
   ]
  },
  {
   "cell_type": "code",
   "execution_count": null,
   "metadata": {},
   "outputs": [],
   "source": [
    "mytext = \"\"\"WORKSHOP HAIKU\n",
    "translated by Éva Antal\n",
    "\n",
    "Perhaps do not even touch it.\n",
    "Just look at it, look at it,\n",
    "until it becomes beautiful.\n",
    "\n",
    " \n",
    "\n",
    "TEST QUESTION FOR EVERY DAY\n",
    "translated by Éva Antal\n",
    "\n",
    "Do you still see\n",
    "what you look at, or you only\n",
    "know: \"there\" \"it\" \"is\"?\n",
    "\n",
    " \n",
    "\n",
    "FROM THE BEST OF INTENTIONS\n",
    "translated by Gábor G. Gyukics and Michael Castro\n",
    "\n",
    "fall asleep;\n",
    "die the same way a child\n",
    "bites into an apple.\n",
    "\n",
    " \n",
    "\n",
    "MEETING\n",
    "translated by Gábor G. Gyukics and Michael Castro\n",
    "\n",
    "I plan it as a farewell\n",
    "\n",
    " \n",
    "\n",
    "THE HAIKU\n",
    "translated by Tamás Révbíró\n",
    "\n",
    "in front of my feet\n",
    "a bird sat, and then took flight.\n",
    "Now I'm heavier.\n",
    "\n",
    " \n",
    "\n",
    "AXIOM\n",
    "translated by Tamás Révbíró\n",
    "\n",
    "You should try and help\n",
    "everything to be the way\n",
    "it is anyway.\n",
    "\n",
    " \n",
    "\n",
    "ECHO ON EPICTETUS\n",
    "translated by Tamás Révbíró\n",
    "\n",
    "Don't say, \"I lost it\",\n",
    "about anything. Rather\n",
    "say, \"I gave it back\".\n",
    "\n",
    " \n",
    "\n",
    "AXIOM\n",
    "translated by Tamás Révbíró\n",
    "\n",
    "Parents and killers:\n",
    "almost-innocent servants.\n",
    "They just execute.\n",
    "\n",
    " \n",
    "\n",
    "ZENsation\n",
    "translated by Tamás Révbíró\n",
    "\n",
    "Look, the snow gives body to the wind!\n",
    "\n",
    " \n",
    "\n",
    "DISILLUSIONIST\n",
    "translated by Tamás Révbíró\n",
    "\n",
    "Why should I travel\n",
    "when I can be a stranger\n",
    "right here, standing still?\"\"\""
   ]
  },
  {
   "cell_type": "code",
   "execution_count": null,
   "metadata": {},
   "outputs": [],
   "source": [
    "with open('Haikus.txt', 'w') as outstream:\n",
    "    outstream.write(mytext)"
   ]
  },
  {
   "cell_type": "markdown",
   "metadata": {},
   "source": [
    "One can check whether the file is closed."
   ]
  },
  {
   "cell_type": "code",
   "execution_count": null,
   "metadata": {},
   "outputs": [],
   "source": [
    "outstream.closed"
   ]
  },
  {
   "cell_type": "markdown",
   "metadata": {},
   "source": [
    "Now let's read the first two lines from the created file."
   ]
  },
  {
   "cell_type": "code",
   "execution_count": null,
   "metadata": {},
   "outputs": [],
   "source": [
    "with open('Haikus.txt', 'r') as instream:\n",
    "    print(instream.readline())\n",
    "    print(instream.readline())"
   ]
  },
  {
   "cell_type": "markdown",
   "metadata": {},
   "source": [
    "This time let's read all the lines of the file into a list and print the first 6 lines."
   ]
  },
  {
   "cell_type": "code",
   "execution_count": null,
   "metadata": {},
   "outputs": [],
   "source": [
    "with open('Haikus.txt', 'r') as instream:\n",
    "    textlines = instream.readlines()\n",
    "\n",
    "for i in range(6):\n",
    "    print(textlines[i])"
   ]
  },
  {
   "cell_type": "markdown",
   "metadata": {},
   "source": [
    "<!--NAVIGATION-->\n",
    "< [Strings and Regular Expressions](13-Strings-and-Regular-Expressions.ipynb) | [Contents](Index.ipynb) | [Modules and Packages](15-Modules-and-Packages.ipynb) >"
   ]
  }
 ],
 "metadata": {
  "anaconda-cloud": {},
  "kernelspec": {
   "display_name": "Python 3",
   "language": "python",
   "name": "python3"
  },
  "language_info": {
   "codemirror_mode": {
    "name": "ipython",
    "version": 3
   },
   "file_extension": ".py",
   "mimetype": "text/x-python",
   "name": "python",
   "nbconvert_exporter": "python",
   "pygments_lexer": "ipython3",
   "version": "3.6.8"
  }
 },
 "nbformat": 4,
 "nbformat_minor": 2
}
